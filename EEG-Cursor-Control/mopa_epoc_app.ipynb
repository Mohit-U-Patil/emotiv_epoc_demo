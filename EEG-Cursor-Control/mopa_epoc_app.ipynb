{
 "cells": [
  {
   "cell_type": "code",
   "execution_count": 367,
   "metadata": {},
   "outputs": [],
   "source": [
    "import json\n",
    "import ssl\n",
    "from websocket import create_connection\n",
    "import time\n",
    "import pyautogui"
   ]
  },
  {
   "cell_type": "code",
   "execution_count": 368,
   "metadata": {},
   "outputs": [],
   "source": [
    "receivedData = create_connection(\"wss://localhost:6868\", sslopt={\"cert_reqs\": ssl.CERT_NONE})\n"
   ]
  },
  {
   "cell_type": "code",
   "execution_count": 369,
   "metadata": {},
   "outputs": [
    {
     "name": "stdout",
     "output_type": "stream",
     "text": [
      "{\"id\":1,\"jsonrpc\":\"2.0\",\"result\":{\"buildDate\":\"2020-06-18T10:31:17\",\"buildNumber\":\"v2.2.3-475-gedd8364\",\"version\":\"2.5.1.49\"}}\n"
     ]
    }
   ],
   "source": [
    "receivedData.send(json.dumps({\"id\":1,\"jsonrpc\":\"2.0\",\"method\":\"getCortexInfo\"}))\n",
    "print(receivedData.recv())"
   ]
  },
  {
   "cell_type": "code",
   "execution_count": 370,
   "metadata": {},
   "outputs": [
    {
     "name": "stdout",
     "output_type": "stream",
     "text": [
      "{\"id\":1,\"jsonrpc\":\"2.0\",\"result\":{\"accessGranted\":true,\"message\":\"The user has granted access right to this application.\"}}\n"
     ]
    }
   ],
   "source": [
    "receivedData.send(json.dumps({\n",
    "    \"id\": 1,\n",
    "    \"jsonrpc\": \"2.0\",\n",
    "    \"method\": \"requestAccess\",\n",
    "    \"params\": { \"clientId\" : 'D8sPj2gQQj5jZ1moNhixWFAC3wsWvpoaA5Bl05cX', \"clientSecret\" : \"HDiYXZIMsdGWs1iiHIvGm7ajx4YIQaEfjDrI7ApcPXDHEQQnl1TSLoJBhN4358DZdaEZrjoqZwObFwji687jVI67SgQkXxc8SxUILTB8aMiLN2ohwOIAjW2sdI4S7wIz\"\n",
    "}\n",
    "}))\n",
    "print(receivedData.recv())"
   ]
  },
  {
   "cell_type": "code",
   "execution_count": 371,
   "metadata": {},
   "outputs": [
    {
     "name": "stdout",
     "output_type": "stream",
     "text": [
      "eyJhbGciOiJIUzI1NiIsInR5cCI6IkpXVCJ9.eyJhcHBJZCI6ImNvbS5tb2hpdDMubW9oaXRfcGF0aWxfYXBwMSIsImFwcFZlcnNpb24iOiIxLjAiLCJleHAiOjE1OTQ2ODQwODMsIm5iZiI6MTU5NDQyNDg4MywidXNlcklkIjoiOWFmNjc0ZGMtNGMyMC00NjNkLTkxYTQtMzk0M2ZmNjA5N2RkIiwidXNlcm5hbWUiOiJtb2hpdDMiLCJ2ZXJzaW9uIjoiMi4wIn0=.ZqnkPBjXe6D/2y3E5M4Gq5pTs+D25nI+WLzxo4b0gUY=\n"
     ]
    }
   ],
   "source": [
    "receivedData.send(json.dumps({\"id\": 1,\n",
    "    \"jsonrpc\": \"2.0\",\n",
    "    \"method\": \"authorize\",\n",
    "    \"params\": { \"clientId\" : 'D8sPj2gQQj5jZ1moNhixWFAC3wsWvpoaA5Bl05cX', \"clientSecret\" : \"HDiYXZIMsdGWs1iiHIvGm7ajx4YIQaEfjDrI7ApcPXDHEQQnl1TSLoJBhN4358DZdaEZrjoqZwObFwji687jVI67SgQkXxc8SxUILTB8aMiLN2ohwOIAjW2sdI4S7wIz\"\n",
    "},\n",
    "}))\n",
    "\n",
    "# print(receivedData.recv())\n",
    "\n",
    "token = json.loads(receivedData.recv())['result']['cortexToken']\n",
    "\n",
    "print(token)"
   ]
  },
  {
   "cell_type": "code",
   "execution_count": 372,
   "metadata": {},
   "outputs": [],
   "source": [
    "#get new token in case old one expires. 2 days expiry if hasn't been extended\n",
    "# receivedData.send(json.dumps({\n",
    "#     \"id\": 1,\n",
    "#     \"jsonrpc\": \"2.0\",\n",
    "#     \"method\": \"generateNewToken\",\n",
    "#     \"params\": {\n",
    "#         \"cortexToken\": token,\n",
    "#         \"clientId\": \"D8sPj2gQQj5jZ1moNhixWFAC3wsWvpoaA5Bl05cX\",\n",
    "#         \"clientSecret\": \"HDiYXZIMsdGWs1iiHIvGm7ajx4YIQaEfjDrI7ApcPXDHEQQnl1TSLoJBhN4358DZdaEZrjoqZwObFwji687jVI67SgQkXxc8SxUILTB8aMiLN2ohwOIAjW2sdI4S7wIz\"\n",
    "#     }\n",
    "# }))\n",
    "# token = json.loads(receivedData.recv())['result']['cortexToken']"
   ]
  },
  {
   "cell_type": "code",
   "execution_count": 373,
   "metadata": {},
   "outputs": [
    {
     "name": "stdout",
     "output_type": "stream",
     "text": [
      "\n",
      "Headset Query...\n",
      "{\"id\":1,\"jsonrpc\":\"2.0\",\"result\":[{\"connectedBy\":\"dongle\",\"customName\":\"\",\"dongle\":\"6ff\",\"firmware\":\"633\",\"headbandPosition\":null,\"id\":\"EPOCPLUS-4A2C110A\",\"isDfuMode\":false,\"isVirtual\":false,\"motionSensors\":[\"Q0\",\"Q1\",\"Q2\",\"Q3\",\"ACCX\",\"ACCY\",\"ACCZ\",\"MAGX\",\"MAGY\",\"MAGZ\"],\"sensors\":[\"AF3\",\"F7\",\"F3\",\"FC5\",\"T7\",\"P7\",\"O1\",\"O2\",\"P8\",\"T8\",\"FC6\",\"F4\",\"F8\",\"AF4\"],\"settings\":{\"eegRate\":128,\"eegRes\":16,\"memsRate\":32,\"memsRes\":16,\"mode\":\"EPOCPLUS\"},\"status\":\"connected\",\"virtualHeadsetId\":\"\"}]}\n"
     ]
    }
   ],
   "source": [
    "#from the file= Client\n",
    "print(\"\\nHeadset Query...\")\n",
    "\n",
    "receivedData.send(json.dumps({\n",
    "    \"jsonrpc\": \"2.0\",\n",
    "    \"method\": \"queryHeadsets\",\n",
    "    \"params\": {},\n",
    "    \"id\": 1\n",
    "}))\n",
    "\n",
    "print(receivedData.recv())"
   ]
  },
  {
   "cell_type": "code",
   "execution_count": 374,
   "metadata": {},
   "outputs": [
    {
     "name": "stdout",
     "output_type": "stream",
     "text": [
      "\n",
      "Creating session...\n"
     ]
    }
   ],
   "source": [
    "print(\"\\nCreating session...\")\n",
    "#new cortex method to open the session. We don't activate the session yet. Use this after checking if last session id is still\n",
    "# active, next cell querySession does that.\n",
    "receivedData.send(json.dumps({\n",
    "    \"id\": 1,\n",
    "    \"jsonrpc\": \"2.0\",\n",
    "    \"method\": \"createSession\",\n",
    "    \"params\": {\n",
    "        \"cortexToken\": token,\n",
    "        \"headset\": \"EPOCPLUS-4A2C110A\",\n",
    "        \"status\": \"open\"\n",
    "    }\n",
    "}))\n",
    "session = json.loads(receivedData.recv())"
   ]
  },
  {
   "cell_type": "code",
   "execution_count": 375,
   "metadata": {},
   "outputs": [
    {
     "name": "stdout",
     "output_type": "stream",
     "text": [
      "{'id': 1, 'jsonrpc': '2.0', 'result': {'appId': 'com.mohit3.mohit_patil_app1', 'headset': {'connectedBy': 'dongle', 'dongle': '6ff', 'firmware': '633', 'id': 'EPOCPLUS-4A2C110A', 'isDfuMode': False, 'isVirtual': False, 'motionSensors': ['Q0', 'Q1', 'Q2', 'Q3', 'ACCX', 'ACCY', 'ACCZ', 'MAGX', 'MAGY', 'MAGZ'], 'sensors': ['AF3', 'F7', 'F3', 'FC5', 'T7', 'P7', 'O1', 'O2', 'P8', 'T8', 'FC6', 'F4', 'F8', 'AF4'], 'settings': {'eegRate': 128, 'eegRes': 16, 'memsRate': 32, 'memsRes': 16, 'mode': 'EPOCPLUS'}, 'status': 'connected', 'virtualHeadsetId': ''}, 'id': '77baab9a-bfa4-44ae-8c1a-ed2b90c2dbf8', 'license': '', 'owner': 'mohit3', 'performanceMetrics': [{'apiName': 'auditoryAttention', 'displayedName': '', 'name': 'auditoryAttention', 'shortDisplayedName': ''}, {'apiName': 'visualAttention', 'displayedName': '', 'name': 'visualAttention', 'shortDisplayedName': ''}, {'apiName': 'cognitiveStress', 'displayedName': '', 'name': 'cognitiveStress', 'shortDisplayedName': ''}, {'apiName': 'eng', 'displayedName': 'Engagement', 'name': 'engagement', 'shortDisplayedName': 'En'}, {'apiName': 'exc', 'displayedName': 'Excitement', 'name': 'excitement', 'shortDisplayedName': 'Ex'}, {'apiName': 'str', 'displayedName': 'Stress', 'name': 'stress', 'shortDisplayedName': 'St'}, {'apiName': 'rel', 'displayedName': 'Relaxation', 'name': 'relaxation', 'shortDisplayedName': 'Re'}, {'apiName': 'int', 'displayedName': 'Interest', 'name': 'interest', 'shortDisplayedName': 'In'}, {'apiName': 'foc', 'displayedName': 'Focus', 'name': 'focus', 'shortDisplayedName': 'Fo'}], 'recordIds': [], 'recording': False, 'started': '2020-07-11T19:48:03.848-04:00', 'status': 'opened', 'stopped': '', 'streams': []}}\n",
      "77baab9a-bfa4-44ae-8c1a-ed2b90c2dbf8\n"
     ]
    }
   ],
   "source": [
    "print(session)\n",
    "session_id = session['result']['id']\n",
    "print(session_id)"
   ]
  },
  {
   "cell_type": "code",
   "execution_count": 376,
   "metadata": {},
   "outputs": [],
   "source": [
    "receivedData.send(json.dumps({\n",
    "    \"id\": 1,\n",
    "    \"jsonrpc\": \"2.0\",\n",
    "    \"method\": \"querySessions\",\n",
    "    \"params\": {\n",
    "        \"cortexToken\": token\n",
    "    }\n",
    "}))\n",
    "querySessions = receivedData.recv()"
   ]
  },
  {
   "cell_type": "code",
   "execution_count": 377,
   "metadata": {},
   "outputs": [
    {
     "data": {
      "text/plain": [
       "'{\"id\":1,\"jsonrpc\":\"2.0\",\"result\":[{\"appId\":\"com.mohit3.mohit_patil_app1\",\"headset\":{\"connectedBy\":\"dongle\",\"dongle\":\"6ff\",\"firmware\":\"633\",\"id\":\"EPOCPLUS-4A2C110A\",\"isDfuMode\":false,\"isVirtual\":false,\"motionSensors\":[\"Q0\",\"Q1\",\"Q2\",\"Q3\",\"ACCX\",\"ACCY\",\"ACCZ\",\"MAGX\",\"MAGY\",\"MAGZ\"],\"sensors\":[\"AF3\",\"F7\",\"F3\",\"FC5\",\"T7\",\"P7\",\"O1\",\"O2\",\"P8\",\"T8\",\"FC6\",\"F4\",\"F8\",\"AF4\"],\"settings\":{\"eegRate\":128,\"eegRes\":16,\"memsRate\":32,\"memsRes\":16,\"mode\":\"EPOCPLUS\"},\"status\":\"connected\",\"virtualHeadsetId\":\"\"},\"id\":\"77baab9a-bfa4-44ae-8c1a-ed2b90c2dbf8\",\"license\":\"\",\"owner\":\"mohit3\",\"performanceMetrics\":[{\"apiName\":\"auditoryAttention\",\"displayedName\":\"\",\"name\":\"auditoryAttention\",\"shortDisplayedName\":\"\"},{\"apiName\":\"visualAttention\",\"displayedName\":\"\",\"name\":\"visualAttention\",\"shortDisplayedName\":\"\"},{\"apiName\":\"cognitiveStress\",\"displayedName\":\"\",\"name\":\"cognitiveStress\",\"shortDisplayedName\":\"\"},{\"apiName\":\"eng\",\"displayedName\":\"Engagement\",\"name\":\"engagement\",\"shortDisplayedName\":\"En\"},{\"apiName\":\"exc\",\"displayedName\":\"Excitement\",\"name\":\"excitement\",\"shortDisplayedName\":\"Ex\"},{\"apiName\":\"str\",\"displayedName\":\"Stress\",\"name\":\"stress\",\"shortDisplayedName\":\"St\"},{\"apiName\":\"rel\",\"displayedName\":\"Relaxation\",\"name\":\"relaxation\",\"shortDisplayedName\":\"Re\"},{\"apiName\":\"int\",\"displayedName\":\"Interest\",\"name\":\"interest\",\"shortDisplayedName\":\"In\"},{\"apiName\":\"foc\",\"displayedName\":\"Focus\",\"name\":\"focus\",\"shortDisplayedName\":\"Fo\"}],\"recordIds\":[],\"recording\":false,\"started\":\"2020-07-11T19:48:03.848-04:00\",\"status\":\"opened\",\"stopped\":\"\",\"streams\":[]}]}'"
      ]
     },
     "execution_count": 377,
     "metadata": {},
     "output_type": "execute_result"
    }
   ],
   "source": [
    "querySessions"
   ]
  },
  {
   "cell_type": "code",
   "execution_count": 378,
   "metadata": {},
   "outputs": [],
   "source": [
    "# print(\"\\nSubscribing to session...\")\n",
    "# receivedData.send(json.dumps({\n",
    "#     \"id\": 1,\n",
    "#     \"jsonrpc\": \"2.0\",\n",
    "#     \"method\": \"subscribe\",\n",
    "#     \"params\": {\n",
    "#         \"cortexToken\": token,\n",
    "#         \"session\": session_id,\n",
    "#         \"streams\": [\"sys\"]\n",
    "#     }\n",
    "# }))"
   ]
  },
  {
   "cell_type": "code",
   "execution_count": 379,
   "metadata": {},
   "outputs": [],
   "source": [
    "# print(receivedData.recv())"
   ]
  },
  {
   "cell_type": "code",
   "execution_count": 380,
   "metadata": {},
   "outputs": [],
   "source": [
    "# print(\"\\nGetting detection info...\")\n",
    "\n",
    "# receivedData.send(json.dumps({\n",
    "#     \"id\": 1,\n",
    "#     \"jsonrpc\": \"2.0\",\n",
    "#     \"method\": \"getDetectionInfo\",\n",
    "#     \"params\": {\n",
    "#         \"detection\": \"mentalCommand\"\n",
    "#     }\n",
    "# }))\n",
    "\n",
    "# print(receivedData.recv())"
   ]
  },
  {
   "cell_type": "code",
   "execution_count": 381,
   "metadata": {},
   "outputs": [],
   "source": [
    "#trial block for loading a training profile\n",
    "receivedData.send(json.dumps({\n",
    "    \"id\": 1,\n",
    "    \"jsonrpc\": \"2.0\",\n",
    "    \"method\": \"queryProfile\",\n",
    "    \"params\": {\n",
    "        \"cortexToken\": token\n",
    "    }\n",
    "}))\n",
    "queryProfile = receivedData.recv()"
   ]
  },
  {
   "cell_type": "code",
   "execution_count": 382,
   "metadata": {},
   "outputs": [
    {
     "data": {
      "text/plain": [
       "'{\"id\":1,\"jsonrpc\":\"2.0\",\"result\":[{\"meta\":{\"creation_time\":\"2020-07-02T15:17:36.244-04:00\"},\"name\":\"mopatesting\"}]}'"
      ]
     },
     "execution_count": 382,
     "metadata": {},
     "output_type": "execute_result"
    }
   ],
   "source": [
    "queryProfile"
   ]
  },
  {
   "cell_type": "code",
   "execution_count": 383,
   "metadata": {},
   "outputs": [],
   "source": [
    "receivedData.send(json.dumps({\n",
    "    \"id\": 1,\n",
    "    \"jsonrpc\": \"2.0\",\n",
    "    \"method\": \"getCurrentProfile\",\n",
    "    \"params\": {\n",
    "        \"cortexToken\": token,\n",
    "        \"headset\": \"EPOCPLUS-4A2C110A\"\n",
    "    }\n",
    "}))\n",
    "currentProfile = receivedData.recv()"
   ]
  },
  {
   "cell_type": "code",
   "execution_count": 384,
   "metadata": {},
   "outputs": [
    {
     "data": {
      "text/plain": [
       "'{\"id\":1,\"jsonrpc\":\"2.0\",\"result\":{\"loadedByThisApp\":false,\"name\":null}}'"
      ]
     },
     "execution_count": 384,
     "metadata": {},
     "output_type": "execute_result"
    }
   ],
   "source": [
    "currentProfile"
   ]
  },
  {
   "cell_type": "code",
   "execution_count": 385,
   "metadata": {},
   "outputs": [],
   "source": [
    "# setting up a profile. This is trial here. A trained profile from the emotiv app is loaded in the while loop below\n",
    "# receivedData.send(json.dumps({\n",
    "#     \"id\": 1,\n",
    "#     \"jsonrpc\": \"2.0\",\n",
    "#     \"method\": \"setupProfile\",\n",
    "#     \"params\": {\n",
    "#         \"cortexToken\": token,\n",
    "#         \"headset\": \"EPOCPLUS-4A2C110A\",\n",
    "#         \"profile\": \"mopatesting\",\n",
    "#         \"status\": \"load\"\n",
    "#     }\n",
    "# }))\n",
    "# setupProfile = receivedData.recv()"
   ]
  },
  {
   "cell_type": "code",
   "execution_count": 386,
   "metadata": {},
   "outputs": [],
   "source": [
    "# setupProfile"
   ]
  },
  {
   "cell_type": "code",
   "execution_count": 387,
   "metadata": {},
   "outputs": [],
   "source": [
    "def train_command(request):\n",
    "    print(\"Training \" + request + \" command...\")\n",
    "    receivedData.send(json.dumps( {\n",
    "     \"jsonrpc\": \"2.0\", \n",
    "     \"method\": \"training\", \n",
    "     \"params\": {\n",
    "       \"cortexToken\":token,\n",
    "       \"detection\":\"mentalCommand\",\n",
    "        \"session\": session_id,\n",
    "       \"action\":request,\n",
    "       \"status\":\"start\"\n",
    "     }, \n",
    "     \"id\": 1\n",
    "     }))\n",
    "    \n",
    "    print(receivedData.recv())\n",
    "    time.sleep(5)\n",
    "    print(receivedData.recv())\n",
    "    time.sleep(10)\n",
    "    print(receivedData.recv())\n",
    "\n",
    "    receivedData.send(json.dumps( {\n",
    "     \"jsonrpc\": \"2.0\", \n",
    "     \"method\": \"training\", \n",
    "     \"params\": {\n",
    "       \"cortexToken\":token,\n",
    "       \"detection\":\"mentalCommand\",\n",
    "        \"session\": session_id,\n",
    "       \"action\":request,\n",
    "       \"status\":\"accept\"\n",
    "     }, \n",
    "     \"id\": 1\n",
    "     }\n",
    "    ))\n",
    "    \n",
    "    print(receivedData.recv())\n",
    "    time.sleep(2)\n",
    "    print(receivedData.recv())"
   ]
  },
  {
   "cell_type": "code",
   "execution_count": 388,
   "metadata": {},
   "outputs": [],
   "source": [
    "#trial cell for the main while loop below\n",
    "# receivedData.send(json.dumps({\n",
    "#     \"id\": 1,\n",
    "#     \"jsonrpc\": \"2.0\",\n",
    "#     \"method\": \"getCurrentProfile\",\n",
    "#     \"params\": {\n",
    "#         \"cortexToken\": token,\n",
    "#         \"headset\": \"EPOCPLUS-4A2C110A\"\n",
    "#     }\n",
    "# }))\n",
    "# print(receivedData.recv())\n"
   ]
  },
  {
   "cell_type": "code",
   "execution_count": 389,
   "metadata": {},
   "outputs": [],
   "source": [
    "# while True:\n",
    "#     while True:\n",
    "#         try:\n",
    "#             startCode = input('\\n\\nTo train commands, type \"1\". To begin the game, type \"2\"\\n>>> ')\n",
    "#             if startCode == \"1\" or startCode == \"2\":\n",
    "#                 break\n",
    "#             else:\n",
    "#                 print(\"Invalid input\")\n",
    "#         except ValueError:\n",
    "#             print(\"Invalid input\")\n",
    "\n",
    "#     if startCode == \"1\":\n",
    "#         while True:\n",
    "#             try:\n",
    "                \n",
    "#                 req = input(\"Which command would you like to train? (Neutral, Left, Right, Lift, Drop, Push)\\n>>> \").lower()         \n",
    "\n",
    "#                 if req == \"neutral\" or req == \"lift\" or req == \"drop\" or req == \"left\" or req == \"right\" or req == \"push\":\n",
    "#                     train_command(req)\n",
    "#                     break\n",
    "#                 else:\n",
    "#                     print(\"Invalid input\")\n",
    "#             except:\n",
    "#                 print(\"Invalid input\")\n",
    "                \n",
    "#     elif startCode == \"2\":\n",
    "\n",
    "#         print(\"Getting USER login...\")\n",
    "\n",
    "#         receivedData.send(json.dumps({\n",
    "#             \"jsonrpc\": \"2.0\",\n",
    "#             \"method\": \"getUserLogin\",\n",
    "#             \"id\": 1\n",
    "#         }))\n",
    "\n",
    "#         profile = json.loads(receivedData.recv())[\"result\"][0]\n",
    "#         print(profile)\n",
    "        \n",
    "#         receivedData.send(json.dumps({\n",
    "#             \"id\": 1,\n",
    "#             \"jsonrpc\": \"2.0\",\n",
    "#             \"method\": \"subscribe\",\n",
    "#             \"params\": {\n",
    "#                 \"cortexToken\": token,\n",
    "#                 \"session\": session_id,\n",
    "#                 \"streams\": [\"com\"]\n",
    "#             }\n",
    "#         }))\n",
    "        \n",
    "\n",
    "#         print(\"Subscription:\", receivedData.recv())\n",
    "        \n",
    "# # This is if we want to create a new profile with training done here in the script.\n",
    "# #         receivedData.send(json.dumps({\n",
    "# #             \"jsonrpc\": \"2.0\",\n",
    "# #             \"method\": \"setupProfile\",\n",
    "# #             \"params\": {\n",
    "# #                 \"cortexToken\": token,\n",
    "# #                 \"profile\": profile,\n",
    "# #                 \"status\": \"create\"\n",
    "# #             },\n",
    "# #             \"id\": 1\n",
    "# #         }))\n",
    "# #for creating the temporary guest profile without setting up a profile.\n",
    "# #         {\n",
    "# #             \"id\": 1,\n",
    "# #             \"jsonrpc\": \"2.0\",\n",
    "# #             \"method\": \"loadGuestProfile\",\n",
    "# #             \"params\": {\n",
    "# #                 \"cortexToken\": \"xxx\",\n",
    "# #                 \"headset\": \"INSIGHT-12341234\"\n",
    "# #             }\n",
    "# #         }\n",
    "\n",
    "# #Loading pretrained profile\n",
    "#         receivedData.send(json.dumps({\n",
    "#             \"id\": 1,\n",
    "#             \"jsonrpc\": \"2.0\",\n",
    "#             \"method\": \"setupProfile\",\n",
    "#             \"params\": {\n",
    "#                 \"cortexToken\": token,\n",
    "#                 \"headset\": \"EPOCPLUS-4A2C110A\",\n",
    "#                 \"profile\": \"mopatesting\",\n",
    "#                 \"status\": \"load\"\n",
    "#             }\n",
    "#         }))\n",
    "#         setupProfile = receivedData.recv()\n",
    "\n",
    "\n",
    "#         print(\"Profile Set-up:\", receivedData.recv())\n",
    "\n",
    "#         receivedData.send(json.dumps({\n",
    "#             \"jsonrpc\": \"2.0\",\n",
    "#             \"method\": \"mentalCommandBrainMap\",\n",
    "#             \"params\": {\n",
    "#                 \"cortexToken\": token,\n",
    "#                 \"profile\": \"mopatesting\"\n",
    "#             },\n",
    "#             \"id\": 1\n",
    "#         }))\n",
    "\n",
    "#         synapseData = receivedData.recv()\n",
    "\n",
    "#         print(\"Mental Command Brain Map:\", synapseData)\n",
    "\n",
    "#         while True:\n",
    "#             thought = json.loads(receivedData.recv())[\"com\"][0]\n",
    "#             print(thought)\n",
    "\n",
    "#             maxX, maxY = pyautogui.size()\n",
    "\n",
    "#             try:\n",
    "#                 x, y = pyautogui.position()      \n",
    "#             except KeyboardInterrupt:\n",
    "#                 print('\\n')\n",
    "\n",
    "#             if thought == \"left\" and x>0:\n",
    "#                 pyautogui.move(-4, None)\n",
    "#             elif thought == \"right\" and x<maxX:\n",
    "#                 pyautogui.move(4, None)\n",
    "#             elif thought == \"lift\" and y<maxY:\n",
    "#                 pyautogui.move(None, -4)\n",
    "#             elif thought == \"drop\" and y>0:\n",
    "#                 pyautogui.move(None, 4)\n",
    "#             elif thought == \"neutral\":\n",
    "#                 pyautogui.move(None, None)\n",
    "#             elif thought == \"push\":\n",
    "#                 pyautogui.click()"
   ]
  },
  {
   "cell_type": "code",
   "execution_count": 390,
   "metadata": {},
   "outputs": [
    {
     "name": "stdout",
     "output_type": "stream",
     "text": [
      "{\"id\":1,\"jsonrpc\":\"2.0\",\"result\":{\"failure\":[],\"success\":[{\"cols\":[\"COUNTER_MEMS\",\"INTERPOLATED_MEMS\",\"Q0\",\"Q1\",\"Q2\",\"Q3\",\"ACCX\",\"ACCY\",\"ACCZ\",\"MAGX\",\"MAGY\",\"MAGZ\"],\"sid\":\"77baab9a-bfa4-44ae-8c1a-ed2b90c2dbf8\",\"streamName\":\"mot\"}]}}\n"
     ]
    }
   ],
   "source": [
    "receivedData.send(json.dumps({\n",
    "            \"id\": 1,\n",
    "            \"jsonrpc\": \"2.0\",\n",
    "            \"method\": \"subscribe\",\n",
    "            \"params\": {\n",
    "                \"cortexToken\": token,\n",
    "                \"session\": session_id,\n",
    "                \"streams\": [\"mot\"]\n",
    "            }\n",
    "        }))\n",
    "print(receivedData.recv())\n"
   ]
  },
  {
   "cell_type": "code",
   "execution_count": 391,
   "metadata": {},
   "outputs": [],
   "source": [
    "# receivedData.send(json.dumps({\n",
    "#             \"id\": 1,\n",
    "#             \"jsonrpc\": \"2.0\",\n",
    "#             \"method\": \"unsubscribe\",\n",
    "#             \"params\": {\n",
    "#                 \"cortexToken\": token,\n",
    "#                 \"session\": session_id,\n",
    "#                 \"streams\": [\"mot\"]\n",
    "#             }\n",
    "#         }))\n",
    "# print(receivedData.recv())"
   ]
  },
  {
   "cell_type": "code",
   "execution_count": 396,
   "metadata": {},
   "outputs": [
    {
     "name": "stdout",
     "output_type": "stream",
     "text": [
      "[27, 0, 0.531188, -0.613586, -0.581177, -0.059875, 3.999939, -3.999939, -3.999939, 0.149538, -119.032578, -30.954452]\n"
     ]
    }
   ],
   "source": [
    "# gyro_mot = json.loads(receivedData.recv())[\"mot\"]\n",
    "# print(gyro_mot)"
   ]
  },
  {
   "cell_type": "code",
   "execution_count": 393,
   "metadata": {},
   "outputs": [],
   "source": [
    "# epoc_quaternion = Quaternion(gyro_mot[2:6])\n",
    "# epoc_quaternion\n",
    "# numpy.set_printoptions(suppress=True) # Suppress insignificant values for clarity\n",
    "# v = numpy.array([0., 0., 1.]) # Unit vector in the +z direction\n",
    "# v_prime = epoc_quaternion.rotate(v)\n",
    "# v_prime #rotated vector"
   ]
  },
  {
   "cell_type": "code",
   "execution_count": 394,
   "metadata": {},
   "outputs": [],
   "source": [
    "#new updated quaternion each sample, vector is updated from the rotated vector\n",
    "# from pyquaternion import Quaternion\n",
    "# import numpy\n",
    "\n",
    "# v = numpy.array([0., 0., 1.]) # Unit vector in the +z direction, initialize out of the loop\n",
    "# v_old = v\n",
    "\n",
    "# while True:\n",
    "#     gyro_mot = json.loads(receivedData.recv())[\"mot\"]\n",
    "# #     print(gyro_mot)\n",
    "#     if(gyro_mot[0] == 0):\n",
    "#         epoc_quaternion = Quaternion(gyro_mot[2:6])\n",
    "#         numpy.set_printoptions(suppress=True) # Suppress insignificant values for clarity\n",
    "#         v_prime = epoc_quaternion.rotate(v)\n",
    "#         shift_vec = v_prime - v_old\n",
    "#         v_old = v_prime\n",
    "#         print(v_prime) #rotated vector\n",
    "#     #time.sleep(2)"
   ]
  },
  {
   "cell_type": "code",
   "execution_count": null,
   "metadata": {},
   "outputs": [],
   "source": [
    "from pyquaternion import Quaternion\n",
    "import numpy\n",
    "\n",
    "v = numpy.array([0., 0., 1.]) # Unit vector in the +z direction, initialize out of the loop\n",
    "v_old = v\n",
    "\n",
    "while True:\n",
    "    gyro_mot = json.loads(receivedData.recv())[\"mot\"]\n",
    "    \n",
    "    if(gyro_mot[0] == 0 or gyro_mot[10] or gyro_mot[20] or gyro_mot[30]):\n",
    "\n",
    "        epoc_quaternion = Quaternion(gyro_mot[2:6])\n",
    "        numpy.set_printoptions(suppress=True) # Suppress insignificant values for clarity\n",
    "        v_prime = epoc_quaternion.rotate(v)\n",
    "        shift_vec = v_prime - v_old\n",
    "        v_old = v_prime\n",
    "    #     print(v_prime) #rotated vector\n",
    "\n",
    "        maxX, maxY = pyautogui.size()\n",
    "\n",
    "        try:\n",
    "            x, y = pyautogui.position()      \n",
    "        except KeyboardInterrupt:\n",
    "            print('\\n')\n",
    "\n",
    "        pyautogui.moveRel(shift_vec[0]*500, shift_vec[0]*500, duration=0)\n",
    "        \n",
    "#example template temporary    \n",
    "# while True:\n",
    "#         thought = json.loads(receivedData.recv())[\"com\"][0]\n",
    "#         print(thought)\n",
    "\n",
    "#         maxX, maxY = pyautogui.size()\n",
    "\n",
    "#         try:\n",
    "#             x, y = pyautogui.position()      \n",
    "#         except KeyboardInterrupt:\n",
    "#             print('\\n')\n",
    "\n",
    "#         if thought == \"left\" and x>0:\n",
    "#             pyautogui.move(-4, None)\n",
    "#         elif thought == \"right\" and x<maxX:\n",
    "#             pyautogui.move(4, None)\n",
    "#         elif thought == \"lift\" and y<maxY:\n",
    "#             pyautogui.move(None, -4)\n",
    "#         elif thought == \"drop\" and y>0:\n",
    "#             pyautogui.move(None, 4)\n",
    "#         elif thought == \"neutral\":\n",
    "#             pyautogui.move(None, None)\n",
    "#         elif thought == \"push\":\n",
    "#             pyautogui.click()"
   ]
  },
  {
   "cell_type": "code",
   "execution_count": null,
   "metadata": {},
   "outputs": [],
   "source": []
  }
 ],
 "metadata": {
  "kernelspec": {
   "display_name": "Python 3",
   "language": "python",
   "name": "python3"
  },
  "language_info": {
   "codemirror_mode": {
    "name": "ipython",
    "version": 3
   },
   "file_extension": ".py",
   "mimetype": "text/x-python",
   "name": "python",
   "nbconvert_exporter": "python",
   "pygments_lexer": "ipython3",
   "version": "3.7.3"
  }
 },
 "nbformat": 4,
 "nbformat_minor": 4
}
