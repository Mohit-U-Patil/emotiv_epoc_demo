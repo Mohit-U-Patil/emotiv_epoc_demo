{
 "cells": [
  {
   "cell_type": "code",
   "execution_count": null,
   "metadata": {},
   "outputs": [],
   "source": [
    "# Mouse Tracking with Kalman Filter\n",
    "# Author: Du Ang\n",
    "# Material references: https://blog.csdn.net/angelfish91/article/details/61768575\n",
    "# Date: July 1, 2018\n",
    "\n",
    "import cv2\n",
    "import numpy as np\n",
    "\n",
    "from kalman_filter import KalmanFilter\n",
    "\n",
    "TITLE = \"Mouse Tracking with Kalman Filter\"\n",
    "frame = np.ones((800,800,3),np.uint8) * 255\n",
    "\n",
    "\n",
    "def mousemove(event, x, y, s, p):\n",
    "    global frame, current_measurement, current_prediction\n",
    "    current_measurement = np.array([[np.float32(x)], [np.float32(y)]])\n",
    "    current_prediction = kalman.predict()\n",
    "\n",
    "    cmx, cmy = current_measurement[0], current_measurement[1]\n",
    "    cpx, cpy = current_prediction[0], current_prediction[1]\n",
    "\n",
    "    frame = np.ones((800,800,3),np.uint8) * 255\n",
    "    cv2.putText(frame, \"Measurement: ({:.1f}, {:.1f})\".format(np.float(cmx), np.float(cmy)),\n",
    "                (30, 30), cv2.FONT_HERSHEY_DUPLEX, 0.8, (50, 150, 0))\n",
    "    cv2.putText(frame, \"Prediction: ({:.1f}, {:.1f})\".format(np.float(cpx), np.float(cpy)),\n",
    "                (30, 60), cv2.FONT_HERSHEY_DUPLEX, 0.8, (0, 0, 255))\n",
    "    cv2.circle(frame, (cmx, cmy), 10, (50, 150, 0), -1)      # current measured point\n",
    "    cv2.circle(frame, (cpx, cpy), 10, (0, 0, 255), -1)      # current predicted point\n",
    "\n",
    "    kalman.correct(current_measurement)\n",
    "\n",
    "    return\n",
    "\n",
    "\n",
    "cv2.namedWindow(TITLE)\n",
    "cv2.setMouseCallback(TITLE, mousemove)\n",
    "\n",
    "stateMatrix = np.zeros((4, 1), np.float32)  # [x, y, delta_x, delta_y]\n",
    "estimateCovariance = np.eye(stateMatrix.shape[0])\n",
    "transitionMatrix = np.array([[1, 0, 1, 0],[0, 1, 0, 1], [0, 0, 1, 0], [0, 0, 0, 1]], np.float32)\n",
    "processNoiseCov = np.array([[1,0,0,0],[0,1,0,0],[0,0,1,0],[0,0,0,1]], np.float32) * 0.001\n",
    "measurementStateMatrix = np.zeros((2, 1), np.float32)\n",
    "observationMatrix = np.array([[1,0,0,0],[0,1,0,0]],np.float32)\n",
    "measurementNoiseCov = np.array([[1,0],[0,1]], np.float32) * 1\n",
    "kalman = KalmanFilter(X=stateMatrix,\n",
    "                      P=estimateCovariance,\n",
    "                      F=transitionMatrix,\n",
    "                      Q=processNoiseCov,\n",
    "                      Z=measurementStateMatrix,\n",
    "                      H=observationMatrix,\n",
    "                      R=measurementNoiseCov)\n",
    "\n",
    "while True:\n",
    "    cv2.imshow(TITLE,frame)\n",
    "    if cv2.waitKey(1) & 0xFF == ord('q'):\n",
    "        break\n",
    "\n",
    "cv2.destroyAllWindows()\n"
   ]
  },
  {
   "cell_type": "code",
   "execution_count": null,
   "metadata": {},
   "outputs": [],
   "source": []
  }
 ],
 "metadata": {
  "kernelspec": {
   "display_name": "Python 3",
   "language": "python",
   "name": "python3"
  },
  "language_info": {
   "codemirror_mode": {
    "name": "ipython",
    "version": 3
   },
   "file_extension": ".py",
   "mimetype": "text/x-python",
   "name": "python",
   "nbconvert_exporter": "python",
   "pygments_lexer": "ipython3",
   "version": "3.7.3"
  }
 },
 "nbformat": 4,
 "nbformat_minor": 4
}
